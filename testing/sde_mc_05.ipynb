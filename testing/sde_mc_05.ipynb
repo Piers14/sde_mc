{
  "nbformat": 4,
  "nbformat_minor": 0,
  "metadata": {
    "colab": {
      "name": "sde_mc_05.ipynb",
      "provenance": [],
      "collapsed_sections": [
        "a4tmQViIWD56",
        "FFmqFr7mDSRW"
      ],
      "machine_shape": "hm",
      "authorship_tag": "ABX9TyMF5HOvAaoCyQUBJFIKuk3P",
      "include_colab_link": true
    },
    "kernelspec": {
      "name": "python3",
      "display_name": "Python 3"
    },
    "language_info": {
      "name": "python"
    },
    "accelerator": "GPU"
  },
  "cells": [
    {
      "cell_type": "markdown",
      "metadata": {
        "id": "view-in-github",
        "colab_type": "text"
      },
      "source": [
        "<a href=\"https://colab.research.google.com/github/Piers14/sde_mc/blob/main/testing/sde_mc_05.ipynb\" target=\"_parent\"><img src=\"https://colab.research.google.com/assets/colab-badge.svg\" alt=\"Open In Colab\"/></a>"
      ]
    },
    {
      "cell_type": "markdown",
      "metadata": {
        "id": "a4tmQViIWD56"
      },
      "source": [
        "## Setup:"
      ]
    },
    {
      "cell_type": "code",
      "metadata": {
        "colab": {
          "base_uri": "https://localhost:8080/"
        },
        "id": "q9_gS6Y8VZib",
        "outputId": "d320b42e-6c01-4786-be86-4cd3fb10b511"
      },
      "source": [
        "!pip install git+'https://github.com/Piers14/sde_mc' --upgrade"
      ],
      "execution_count": 2,
      "outputs": [
        {
          "output_type": "stream",
          "text": [
            "Collecting git+https://github.com/Piers14/sde_mc\n",
            "  Cloning https://github.com/Piers14/sde_mc to /tmp/pip-req-build-9q1ufmrd\n",
            "  Running command git clone -q https://github.com/Piers14/sde_mc /tmp/pip-req-build-9q1ufmrd\n",
            "Requirement already satisfied, skipping upgrade: numpy in /usr/local/lib/python3.7/dist-packages (from sde-mc==0.1) (1.19.5)\n",
            "Requirement already satisfied, skipping upgrade: torch in /usr/local/lib/python3.7/dist-packages (from sde-mc==0.1) (1.8.1+cu101)\n",
            "Requirement already satisfied, skipping upgrade: scipy in /usr/local/lib/python3.7/dist-packages (from sde-mc==0.1) (1.4.1)\n",
            "Requirement already satisfied, skipping upgrade: matplotlib in /usr/local/lib/python3.7/dist-packages (from sde-mc==0.1) (3.2.2)\n",
            "Requirement already satisfied, skipping upgrade: typing-extensions in /usr/local/lib/python3.7/dist-packages (from torch->sde-mc==0.1) (3.7.4.3)\n",
            "Requirement already satisfied, skipping upgrade: python-dateutil>=2.1 in /usr/local/lib/python3.7/dist-packages (from matplotlib->sde-mc==0.1) (2.8.1)\n",
            "Requirement already satisfied, skipping upgrade: pyparsing!=2.0.4,!=2.1.2,!=2.1.6,>=2.0.1 in /usr/local/lib/python3.7/dist-packages (from matplotlib->sde-mc==0.1) (2.4.7)\n",
            "Requirement already satisfied, skipping upgrade: cycler>=0.10 in /usr/local/lib/python3.7/dist-packages (from matplotlib->sde-mc==0.1) (0.10.0)\n",
            "Requirement already satisfied, skipping upgrade: kiwisolver>=1.0.1 in /usr/local/lib/python3.7/dist-packages (from matplotlib->sde-mc==0.1) (1.3.1)\n",
            "Requirement already satisfied, skipping upgrade: six>=1.5 in /usr/local/lib/python3.7/dist-packages (from python-dateutil>=2.1->matplotlib->sde-mc==0.1) (1.15.0)\n",
            "Building wheels for collected packages: sde-mc\n",
            "  Building wheel for sde-mc (setup.py) ... \u001b[?25l\u001b[?25hdone\n",
            "  Created wheel for sde-mc: filename=sde_mc-0.1-cp37-none-any.whl size=11063 sha256=c9b5c0fb6a98d9bfb7fafea932f1b5737ff7d1db74af838e0af31d3c5768e105\n",
            "  Stored in directory: /tmp/pip-ephem-wheel-cache-g3mh4oou/wheels/30/41/58/371909843d6e54dcabb04034994d939ba63496887aa2444d03\n",
            "Successfully built sde-mc\n",
            "Installing collected packages: sde-mc\n",
            "Successfully installed sde-mc-0.1\n"
          ],
          "name": "stdout"
        }
      ]
    },
    {
      "cell_type": "code",
      "metadata": {
        "id": "QBTaUMj6Vl4N"
      },
      "source": [
        "from sde_mc import *\n",
        "import torch\n",
        "import numpy as np\n",
        "import matplotlib.pyplot as plt"
      ],
      "execution_count": 3,
      "outputs": []
    },
    {
      "cell_type": "code",
      "metadata": {
        "colab": {
          "base_uri": "https://localhost:8080/"
        },
        "id": "HY3QntcWVyhg",
        "outputId": "7dfd3009-680e-4407-c223-daca799a771b"
      },
      "source": [
        "device = 'cuda' if torch.cuda.is_available() else 'cpu'\n",
        "print(device)"
      ],
      "execution_count": 4,
      "outputs": [
        {
          "output_type": "stream",
          "text": [
            "cuda\n"
          ],
          "name": "stdout"
        }
      ]
    },
    {
      "cell_type": "markdown",
      "metadata": {
        "id": "FFmqFr7mDSRW"
      },
      "source": [
        "## Net vs Linear:"
      ]
    },
    {
      "cell_type": "code",
      "metadata": {
        "colab": {
          "base_uri": "https://localhost:8080/"
        },
        "id": "z-NBkulGDYbM",
        "outputId": "9ac501a4-be3e-4eb0-c8db-b2242a14f446"
      },
      "source": [
        "# MC with no control variate\n",
        "steps = 3000\n",
        "trials = 1000\n",
        "gbm = Gbm(mu=0.02, sigma=0.2, init_value=torch.tensor([1.0]), dim=1)\n",
        "solver = SdeSolver(sde=gbm, time=3, num_steps=steps, device=device)\n",
        "\n",
        "mc_stats = mc_simple(num_trials=trials, sde_solver=solver, payoff=BinaryAoN(strike=1.), discount=np.exp(-0.06))\n",
        "mc_stats.print()"
      ],
      "execution_count": null,
      "outputs": [
        {
          "output_type": "stream",
          "text": [
            "Mean: 0.64422  +/- 0.04183     Time taken (s): 0.48\n"
          ],
          "name": "stdout"
        }
      ]
    },
    {
      "cell_type": "code",
      "metadata": {
        "colab": {
          "base_uri": "https://localhost:8080/"
        },
        "id": "HrCYIUsnHqG8",
        "outputId": "6636b730-9446-4cd0-b5c0-50ece3fe4679"
      },
      "source": [
        "# MC with control variate\n",
        "steps = 100\n",
        "ts = torch.tensor([3*i / steps for i in range(1, steps+1)], device=device)\n",
        "gbm = Gbm(mu=0.02, sigma=0.2, init_value=torch.tensor([1.0]), dim=1)\n",
        "solver = SdeSolver(sde=gbm, time=3, num_steps=steps, device=device)\n",
        "\n",
        "net_approx = NetApproximator(layer_sizes=[3], time_points=ts, discounter=ConstantShortRate(r=0.02), device=device, bs=128)\n",
        "new_cv_stats = mc_control_variate(num_trials=(100, 1000), simple_solver=solver, approximator=net_approx,\n",
        "                                  payoff=BinaryAoN(strike=1.), discounter=ConstantShortRate(r=0.02), step_factor=int(3000/steps))\n",
        "new_cv_stats.print()"
      ],
      "execution_count": null,
      "outputs": [
        {
          "output_type": "stream",
          "text": [
            "Time for final MC: 0.874687910079956\n",
            "Mean: 0.63757  +/- 0.01888     Time taken (s): 1.45\n"
          ],
          "name": "stdout"
        }
      ]
    },
    {
      "cell_type": "markdown",
      "metadata": {
        "id": "v4sKkzZj_Dvf"
      },
      "source": [
        "## Variance as a loss function:"
      ]
    },
    {
      "cell_type": "code",
      "metadata": {
        "colab": {
          "base_uri": "https://localhost:8080/"
        },
        "id": "sPd3lorWH6kd",
        "outputId": "69387a49-b346-4a19-a28f-1d33eb300660"
      },
      "source": [
        "# MC with no control variate\n",
        "steps = 200\n",
        "trials = 100000\n",
        "time_points = torch.tensor([3*i/steps for i in range(0, steps)], device=device)\n",
        "Ys = ConstantShortRate(r=0.02)(time_points)\n",
        "\n",
        "gbm = Gbm(mu=0.02, sigma=0.2, init_value=torch.tensor([1.0] * 2), dim=2)\n",
        "solver = SdeSolver(sde=gbm, time=3, num_steps=steps, device=device)\n",
        "\n",
        "mc_stats = mc_simple(num_trials=trials, sde_solver=solver, payoff=Rainbow(strike=1.), discount=np.exp(-0.06), return_normals=True)\n",
        "mc_stats.print()"
      ],
      "execution_count": 82,
      "outputs": [
        {
          "output_type": "stream",
          "text": [
            "Mean: 0.28397  +/- 0.00200     Time taken (s): 0.14\n"
          ],
          "name": "stdout"
        }
      ]
    },
    {
      "cell_type": "code",
      "metadata": {
        "id": "PFnsFD5SCH62"
      },
      "source": [
        "paths, payoffs, normals = mc_stats.paths, mc_stats.payoffs, mc_stats.normals.squeeze(-1)"
      ],
      "execution_count": 83,
      "outputs": []
    },
    {
      "cell_type": "code",
      "metadata": {
        "id": "LLhap4ybCMmX"
      },
      "source": [
        "# Approximate Z using NN for F and the normals\n",
        "# inputs to F depend on t, X(t)\n",
        "# Z = F*N.sum()\n",
        "# Compute G = f(X)Y + Z\n",
        "# loss = variance(G)\n",
        "# update parameters of NN"
      ],
      "execution_count": 84,
      "outputs": []
    },
    {
      "cell_type": "code",
      "metadata": {
        "id": "lxY3kVJf-iay"
      },
      "source": [
        "class NormalPathData(Dataset):\n",
        "  def __init__(self, paths, payoffs, normals):\n",
        "    self.paths = paths[:, :-1]\n",
        "    self.payoffs = payoffs\n",
        "    self.normals = normals\n",
        "  \n",
        "  def __len__(self):\n",
        "    return len(self.payoffs)\n",
        "    \n",
        "  def __getitem__(self, idx):\n",
        "    return (self.paths[idx], self.normals[idx]), self.payoffs[idx]"
      ],
      "execution_count": 85,
      "outputs": []
    },
    {
      "cell_type": "code",
      "metadata": {
        "id": "YuVJ3Y3Op_e8"
      },
      "source": [
        "bs = 250\n",
        "dim = gbm.dim\n",
        "data = NormalPathData(paths, payoffs, normals)\n",
        "dl = DataLoader(data, batch_size=bs, shuffle=True, drop_last=True)\n",
        "F_approx = Mlp(dim+1, [30, 30], dim).to(device)\n",
        "adam = optim.Adam(F_approx.parameters())"
      ],
      "execution_count": 86,
      "outputs": []
    },
    {
      "cell_type": "code",
      "metadata": {
        "colab": {
          "base_uri": "https://localhost:8080/"
        },
        "id": "tU-cxqnuwM-6",
        "outputId": "dd13f9aa-895c-4bde-f3ce-074fae9d4675"
      },
      "source": [
        "epochs = 10\n",
        "rep_time_points = time_points.repeat(bs).unsqueeze(-1)\n",
        "opt = adam\n",
        "loss_arr = []\n",
        "for epoch in range(epochs):\n",
        "  F_approx.train()\n",
        "  run_loss = 0\n",
        "  for i, (xb, yb) in enumerate(dl):\n",
        "    opt.zero_grad()\n",
        "    inputs = torch.cat([rep_time_points, xb[0].reshape(dl.batch_size*steps, dim)], dim=-1)\n",
        "    outputs = F_approx(inputs).view(dl.batch_size, steps, dim)\n",
        "    Zs = (xb[1] * (outputs * Ys.view(1, len(Ys), 1))).sum(-1).sum(-1)\n",
        "    var_loss = (yb + Zs).var()\n",
        "    run_loss += var_loss.item()\n",
        "    var_loss.backward()\n",
        "    opt.step()\n",
        "  loss_arr.append(run_loss / len(dl))\n",
        "  print('{}: Train loss: {:.5f}     Train 95: {:.5f}'.format(epoch, loss_arr[epoch], np.sqrt(loss_arr[epoch])*2 / np.sqrt(trials)))\n",
        "  F_approx.eval()\n"
      ],
      "execution_count": 87,
      "outputs": [
        {
          "output_type": "stream",
          "text": [
            "0: Train loss: 0.02358     Train 95: 0.00097\n",
            "1: Train loss: 0.00173     Train 95: 0.00026\n",
            "2: Train loss: 0.00121     Train 95: 0.00022\n",
            "3: Train loss: 0.00109     Train 95: 0.00021\n",
            "4: Train loss: 0.00099     Train 95: 0.00020\n",
            "5: Train loss: 0.00097     Train 95: 0.00020\n",
            "6: Train loss: 0.00088     Train 95: 0.00019\n",
            "7: Train loss: 0.00088     Train 95: 0.00019\n",
            "8: Train loss: 0.00086     Train 95: 0.00019\n",
            "9: Train loss: 0.00082     Train 95: 0.00018\n"
          ],
          "name": "stdout"
        }
      ]
    },
    {
      "cell_type": "code",
      "metadata": {
        "colab": {
          "base_uri": "https://localhost:8080/"
        },
        "id": "TM-lEpq8wsdb",
        "outputId": "2fb8b933-52e6-4066-d18f-3b164b34ee3f"
      },
      "source": [
        "# Now increse number of steps - see if NN is still good approx of F\n",
        "new_steps = 3000\n",
        "new_trials = 100000\n",
        "new_bs = 2000\n",
        "assert not new_trials % new_bs\n",
        "new_solver = SdeSolver(sde=gbm, time=3, num_steps=new_steps, device=device)\n",
        "new_mc_stats = mc_simple(num_trials=new_trials, sde_solver=new_solver, payoff=Rainbow(strike=1.), discount=np.exp(-0.06), return_normals=True)\n",
        "new_mc_stats.print()"
      ],
      "execution_count": 88,
      "outputs": [
        {
          "output_type": "stream",
          "text": [
            "Mean: 0.28450  +/- 0.00202     Time taken (s): 2.15\n"
          ],
          "name": "stdout"
        }
      ]
    },
    {
      "cell_type": "code",
      "metadata": {
        "id": "E1vqG8_ZR4D-"
      },
      "source": [
        "new_paths, new_payoffs, new_normals = new_mc_stats.paths, new_mc_stats.payoffs, new_mc_stats.normals.squeeze(-1)\n",
        "new_data = NormalPathData(new_paths, new_payoffs, new_normals)\n",
        "new_dl = DataLoader(new_data, batch_size=new_bs, shuffle=False)"
      ],
      "execution_count": 89,
      "outputs": []
    },
    {
      "cell_type": "code",
      "metadata": {
        "colab": {
          "base_uri": "https://localhost:8080/"
        },
        "id": "CPyIDT1tEyNQ",
        "outputId": "0b2b6f44-640a-48dc-e7cb-8af93004fffb"
      },
      "source": [
        "new_time_points = torch.tensor([i*3/new_steps for i in range(0, new_steps)], device=device)\n",
        "rep_new_time_points = new_time_points.repeat(new_dl.batch_size).unsqueeze(-1)\n",
        "new_Ys = ConstantShortRate(r=0.02)(new_time_points)\n",
        "run_sum = 0\n",
        "run_sum_sq = 0\n",
        "start = time.time()\n",
        "with torch.no_grad():\n",
        "  for (xb, yb) in new_dl:\n",
        "    inputs = torch.cat([rep_new_time_points, xb[0].reshape(new_dl.batch_size*new_steps, dim)], dim=-1)\n",
        "    outputs = F_approx(inputs).view(new_dl.batch_size, new_steps, dim)\n",
        "    Zs = ((outputs * new_Ys.view(1, len(new_Ys), 1)) * xb[1]).sum(-1).sum(-1)\n",
        "    gammas = yb + Zs\n",
        "    run_sum += gammas.sum()\n",
        "    run_sum_sq += (gammas * gammas).sum()\n",
        "new_mn = (run_sum / new_trials).item()\n",
        "new_sample_sd = np.sqrt(((run_sum_sq - (run_sum*run_sum) / new_trials) / (new_trials - 1)).item())\n",
        "new_sd = new_sample_sd / np.sqrt(new_trials)\n",
        "new_95 = new_sd * 2\n",
        "end = time.time()\n",
        "print(new_mn, new_95, end-start)"
      ],
      "execution_count": 90,
      "outputs": [
        {
          "output_type": "stream",
          "text": [
            "0.28526079654693604 0.00013487402384937714 7.881538391113281\n"
          ],
          "name": "stdout"
        }
      ]
    },
    {
      "cell_type": "code",
      "metadata": {
        "colab": {
          "base_uri": "https://localhost:8080/"
        },
        "id": "f_CGXuayQ1CQ",
        "outputId": "f7e7a8d2-0389-4ec6-ab8f-46134ee69033"
      },
      "source": [
        "Zs"
      ],
      "execution_count": 81,
      "outputs": [
        {
          "output_type": "execute_result",
          "data": {
            "text/plain": [
              "torch.Size([2000])"
            ]
          },
          "metadata": {
            "tags": []
          },
          "execution_count": 81
        }
      ]
    },
    {
      "cell_type": "code",
      "metadata": {
        "id": "8QqY5OdITrMA"
      },
      "source": [
        "gamma = (new_payoffs + Zs.sum(1).squeeze(-1))\n",
        "mn = gamma.mean().item()\n",
        "sd = gamma.std().item()\n",
        "print(mn, sd*2/np.sqrt(new_trials))"
      ],
      "execution_count": null,
      "outputs": []
    },
    {
      "cell_type": "code",
      "metadata": {
        "colab": {
          "base_uri": "https://localhost:8080/"
        },
        "id": "7HfWf1AtLdjq",
        "outputId": "ce8e6d5d-ec67-4659-d6d1-e33ebabebbc0"
      },
      "source": [
        "Zs.sum(1).mean()"
      ],
      "execution_count": null,
      "outputs": [
        {
          "output_type": "execute_result",
          "data": {
            "text/plain": [
              "tensor(-0.0124, device='cuda:0', grad_fn=<MeanBackward0>)"
            ]
          },
          "metadata": {
            "tags": []
          },
          "execution_count": 185
        }
      ]
    },
    {
      "cell_type": "markdown",
      "metadata": {
        "id": "swb3ZSzAMbRm"
      },
      "source": [
        "## Comparison of derivative with linear regression:"
      ]
    },
    {
      "cell_type": "code",
      "metadata": {
        "colab": {
          "base_uri": "https://localhost:8080/",
          "height": 283
        },
        "id": "KNzg8zey6zRF",
        "outputId": "ac427cf8-8505-4bd4-e212-88ad48d777b6"
      },
      "source": [
        "t = torch.tensor(2., device=device)\n",
        "xs = torch.linspace(0.5, 2., 100).to(device)\n",
        "ins = torch.stack([t.repeat(len(xs)), xs], dim=-1)\n",
        "with torch.no_grad():\n",
        "  outs = F_approx(ins)\n",
        "plt.plot(xs.cpu(), (outs.squeeze(1) / -(xs * 0.2)).cpu())"
      ],
      "execution_count": null,
      "outputs": [
        {
          "output_type": "execute_result",
          "data": {
            "text/plain": [
              "[<matplotlib.lines.Line2D at 0x7ff52bce6390>]"
            ]
          },
          "metadata": {
            "tags": []
          },
          "execution_count": 159
        },
        {
          "output_type": "display_data",
          "data": {
            "image/png": "[encoded data removed]",
            "text/plain": [
              "<Figure size 432x288 with 1 Axes>"
            ]
          },
          "metadata": {
            "tags": [],
            "needs_background": "light"
          }
        }
      ]
    },
    {
      "cell_type": "code",
      "metadata": {
        "id": "2q3VtOYQAu6Y"
      },
      "source": [
        "lin_approx = LinearApproximator(basis=[basis_1, basis_2, basis_3], time_points=time_points, discounter=ConstantShortRate(r=0.02))\n",
        "lin_approx.fit(paths, payoffs)"
      ],
      "execution_count": null,
      "outputs": []
    },
    {
      "cell_type": "code",
      "metadata": {
        "id": "KE9p1-ovBxoM"
      },
      "source": [
        "lin_outs = lin_approx(400, t, xs)"
      ],
      "execution_count": null,
      "outputs": []
    },
    {
      "cell_type": "code",
      "metadata": {
        "colab": {
          "base_uri": "https://localhost:8080/",
          "height": 283
        },
        "id": "zXivQOcTCct7",
        "outputId": "b1bfa59c-7f36-4371-ed21-37ed8b0a80d0"
      },
      "source": [
        "plt.plot(xs.cpu(), lin_outs.cpu())"
      ],
      "execution_count": null,
      "outputs": [
        {
          "output_type": "execute_result",
          "data": {
            "text/plain": [
              "[<matplotlib.lines.Line2D at 0x7ff52d9d4f10>]"
            ]
          },
          "metadata": {
            "tags": []
          },
          "execution_count": 155
        },
        {
          "output_type": "display_data",
          "data": {
            "image/png": "[encoded data removed]",
            "text/plain": [
              "<Figure size 432x288 with 1 Axes>"
            ]
          },
          "metadata": {
            "tags": [],
            "needs_background": "light"
          }
        }
      ]
    },
    {
      "cell_type": "code",
      "metadata": {
        "id": "78Gzm0EBCl1v"
      },
      "source": [
        ""
      ],
      "execution_count": null,
      "outputs": []
    }
  ]
}